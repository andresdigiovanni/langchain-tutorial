{
 "cells": [
  {
   "cell_type": "code",
   "execution_count": null,
   "id": "06603d96",
   "metadata": {},
   "outputs": [],
   "source": [
    "from IPython.display import Image, display\n",
    "from typing import TypedDict\n",
    "\n",
    "from langgraph.graph import StateGraph"
   ]
  },
  {
   "cell_type": "markdown",
   "id": "648f9489",
   "metadata": {},
   "source": [
    "# 1. Agent state"
   ]
  },
  {
   "cell_type": "code",
   "execution_count": null,
   "id": "d48e8b63",
   "metadata": {},
   "outputs": [],
   "source": [
    "class AgentState(TypedDict):\n",
    "    name: str\n",
    "    age: str\n",
    "    skills: list\n",
    "    final_result: str"
   ]
  },
  {
   "cell_type": "markdown",
   "id": "39c00ef9",
   "metadata": {},
   "source": [
    "# 2. Create nodes"
   ]
  },
  {
   "cell_type": "code",
   "execution_count": null,
   "id": "06ff6de3",
   "metadata": {},
   "outputs": [],
   "source": [
    "def first_node(state: AgentState) -> AgentState:\n",
    "    \"\"\"This node will greet the user\"\"\"\n",
    "\n",
    "    state[\"final_result\"] = f\"{state['name']} welcome to the system!\"\n",
    "    return state\n",
    "\n",
    "\n",
    "def second_node(state: AgentState) -> AgentState:\n",
    "    \"\"\"This node will describe the user's age\"\"\"\n",
    "\n",
    "    state[\"final_result\"] = (\n",
    "        state[\"final_result\"] + f\" You are {state['age']} years old!\"\n",
    "    )\n",
    "    return state\n",
    "\n",
    "\n",
    "def third_node(state: AgentState) -> AgentState:\n",
    "    \"\"\"This node will list the user's skills in a formatted string\"\"\"\n",
    "    state[\"final_result\"] = (\n",
    "        state[\"final_result\"] + f\" You have skills in: {', '.join(state['skills'])}\"\n",
    "    )\n",
    "\n",
    "    return state"
   ]
  },
  {
   "cell_type": "markdown",
   "id": "bc24acc7",
   "metadata": {},
   "source": [
    "# 3. Create graph"
   ]
  },
  {
   "cell_type": "code",
   "execution_count": null,
   "id": "d36ae02b",
   "metadata": {},
   "outputs": [],
   "source": [
    "graph = StateGraph(AgentState)\n",
    "\n",
    "graph.add_node(\"personalize\", first_node)\n",
    "graph.add_node(\"age_description\", second_node)\n",
    "graph.add_node(\"skills_description\", third_node)\n",
    "\n",
    "graph.set_entry_point(\"personalize\")\n",
    "graph.add_edge(\"personalize\", \"age_description\")\n",
    "graph.add_edge(\"age_description\", \"skills_description\")\n",
    "graph.set_finish_point(\"skills_description\")\n",
    "\n",
    "app = graph.compile()"
   ]
  },
  {
   "cell_type": "markdown",
   "id": "3a936f35",
   "metadata": {},
   "source": [
    "# 4. Visualize graph"
   ]
  },
  {
   "cell_type": "code",
   "execution_count": null,
   "id": "78d5ea70",
   "metadata": {},
   "outputs": [],
   "source": [
    "display(Image(app.get_graph().draw_mermaid_png()))"
   ]
  },
  {
   "cell_type": "markdown",
   "id": "e33d1f1d",
   "metadata": {},
   "source": [
    "# 5. Invoke"
   ]
  },
  {
   "cell_type": "code",
   "execution_count": null,
   "id": "15d52769",
   "metadata": {},
   "outputs": [],
   "source": [
    "result = app.invoke(\n",
    "    {\"name\": \"Linda\", \"age\": 31, \"skills\": [\"Python\", \"ML\", \"LangGraph\"]}\n",
    ")"
   ]
  },
  {
   "cell_type": "code",
   "execution_count": null,
   "id": "33a785b9",
   "metadata": {},
   "outputs": [],
   "source": [
    "result[\"final_result\"]"
   ]
  }
 ],
 "metadata": {
  "kernelspec": {
   "display_name": "langchain-tutorial",
   "language": "python",
   "name": "python3"
  },
  "language_info": {
   "codemirror_mode": {
    "name": "ipython",
    "version": 3
   },
   "file_extension": ".py",
   "mimetype": "text/x-python",
   "name": "python",
   "nbconvert_exporter": "python",
   "pygments_lexer": "ipython3",
   "version": "3.11.6"
  }
 },
 "nbformat": 4,
 "nbformat_minor": 5
}
