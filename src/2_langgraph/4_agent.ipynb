{
 "cells": [
  {
   "cell_type": "code",
   "execution_count": null,
   "id": "a3d2ba56",
   "metadata": {},
   "outputs": [],
   "source": [
    "from typing import TypedDict, List\n",
    "from langchain_core.messages import HumanMessage\n",
    "from langchain_ollama.llms import OllamaLLM\n",
    "from langgraph.graph import StateGraph, START, END"
   ]
  },
  {
   "cell_type": "code",
   "execution_count": null,
   "id": "e81a7e1f",
   "metadata": {},
   "outputs": [],
   "source": [
    "llm = OllamaLLM(model=\"deepseek-r1:8b\", reasoning=False)"
   ]
  },
  {
   "cell_type": "markdown",
   "id": "0219df71",
   "metadata": {},
   "source": [
    "# 1. Agent state"
   ]
  },
  {
   "cell_type": "code",
   "execution_count": null,
   "id": "02e25714",
   "metadata": {},
   "outputs": [],
   "source": [
    "class AgentState(TypedDict):\n",
    "    messages: List[HumanMessage]"
   ]
  },
  {
   "cell_type": "markdown",
   "id": "eec34fc8",
   "metadata": {},
   "source": [
    "# 2. Create nodes"
   ]
  },
  {
   "cell_type": "code",
   "execution_count": null,
   "id": "f53f93c6",
   "metadata": {},
   "outputs": [],
   "source": [
    "def process(state: AgentState) -> AgentState:\n",
    "    response = llm.invoke(state[\"messages\"])\n",
    "    print(f\"\\nAI: {response}\")\n",
    "    return state"
   ]
  },
  {
   "cell_type": "markdown",
   "id": "882b6d21",
   "metadata": {},
   "source": [
    "# 3. Create graph"
   ]
  },
  {
   "cell_type": "code",
   "execution_count": null,
   "id": "0220119c",
   "metadata": {},
   "outputs": [],
   "source": [
    "graph = StateGraph(AgentState)\n",
    "\n",
    "graph.add_node(\"process\", process)\n",
    "\n",
    "graph.add_edge(START, \"process\")\n",
    "graph.add_edge(\"process\", END)\n",
    "\n",
    "agent = graph.compile()"
   ]
  },
  {
   "cell_type": "markdown",
   "id": "488b7bb5",
   "metadata": {},
   "source": [
    "# 4. Invoke"
   ]
  },
  {
   "cell_type": "code",
   "execution_count": null,
   "id": "3583f32b",
   "metadata": {},
   "outputs": [],
   "source": [
    "agent.invoke({\"messages\": [HumanMessage(content=\"Hello, how are you?\")]})"
   ]
  }
 ],
 "metadata": {
  "kernelspec": {
   "display_name": "langchain-tutorial",
   "language": "python",
   "name": "python3"
  },
  "language_info": {
   "codemirror_mode": {
    "name": "ipython",
    "version": 3
   },
   "file_extension": ".py",
   "mimetype": "text/x-python",
   "name": "python",
   "nbconvert_exporter": "python",
   "pygments_lexer": "ipython3",
   "version": "3.11.6"
  }
 },
 "nbformat": 4,
 "nbformat_minor": 5
}
