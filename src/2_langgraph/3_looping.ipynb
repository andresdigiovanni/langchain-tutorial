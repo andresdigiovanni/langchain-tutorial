{
 "cells": [
  {
   "cell_type": "code",
   "execution_count": null,
   "id": "bc6624c3",
   "metadata": {},
   "outputs": [],
   "source": [
    "import random\n",
    "from IPython.display import Image, display\n",
    "from typing import List, TypedDict\n",
    "\n",
    "from langgraph.graph import StateGraph, END"
   ]
  },
  {
   "cell_type": "markdown",
   "id": "22d468cb",
   "metadata": {},
   "source": [
    "# 1. Agent state"
   ]
  },
  {
   "cell_type": "code",
   "execution_count": null,
   "id": "625592b8",
   "metadata": {},
   "outputs": [],
   "source": [
    "class AgentState(TypedDict):\n",
    "    name: str\n",
    "    number: List[int]\n",
    "    counter: int"
   ]
  },
  {
   "cell_type": "markdown",
   "id": "9d0f9086",
   "metadata": {},
   "source": [
    "# 2. Create nodes"
   ]
  },
  {
   "cell_type": "code",
   "execution_count": null,
   "id": "04725691",
   "metadata": {},
   "outputs": [],
   "source": [
    "def greeting_node(state: AgentState) -> AgentState:\n",
    "    \"\"\"Greeting Node which says hi to the person\"\"\"\n",
    "    state[\"name\"] = f\"Hi there, {state['name']}\"\n",
    "    state[\"counter\"] = 0\n",
    "\n",
    "    return state\n",
    "\n",
    "\n",
    "def random_node(state: AgentState) -> AgentState:\n",
    "    \"\"\"Generates a random number from 0 to 10\"\"\"\n",
    "    state[\"number\"].append(random.randint(0, 10))\n",
    "    state[\"counter\"] += 1\n",
    "\n",
    "    return state\n",
    "\n",
    "\n",
    "def should_continue(state: AgentState) -> AgentState:\n",
    "    \"\"\"Function to decide what to do next\"\"\"\n",
    "    if state[\"counter\"] < 5:\n",
    "        print(\"ENTERING LOOP\", state[\"counter\"])\n",
    "        return \"loop\"  # Continue looping\n",
    "    else:\n",
    "        return \"exit\"  # Exit the loop"
   ]
  },
  {
   "cell_type": "markdown",
   "id": "2d280e33",
   "metadata": {},
   "source": [
    "# 3. Create graph"
   ]
  },
  {
   "cell_type": "code",
   "execution_count": null,
   "id": "341729f0",
   "metadata": {},
   "outputs": [],
   "source": [
    "graph = StateGraph(AgentState)\n",
    "\n",
    "graph.add_node(\"greeting\", greeting_node)\n",
    "graph.add_node(\"random\", random_node)\n",
    "graph.add_edge(\"greeting\", \"random\")\n",
    "\n",
    "graph.add_conditional_edges(\n",
    "    \"random\",\n",
    "    should_continue,\n",
    "    {\n",
    "        \"loop\": \"random\",\n",
    "        \"exit\": END,\n",
    "    },\n",
    ")\n",
    "graph.set_entry_point(\"greeting\")\n",
    "\n",
    "app = graph.compile()"
   ]
  },
  {
   "cell_type": "markdown",
   "id": "19ee846e",
   "metadata": {},
   "source": [
    "# 4. Visualize graph"
   ]
  },
  {
   "cell_type": "code",
   "execution_count": null,
   "id": "fdddbef3",
   "metadata": {},
   "outputs": [],
   "source": [
    "display(Image(app.get_graph().draw_mermaid_png()))"
   ]
  },
  {
   "cell_type": "markdown",
   "id": "354c93e4",
   "metadata": {},
   "source": [
    "# 5. Invoke"
   ]
  },
  {
   "cell_type": "code",
   "execution_count": null,
   "id": "8036e794",
   "metadata": {},
   "outputs": [],
   "source": [
    "app.invoke({\"name\": \"Vaibhav\", \"number\": [], \"counter\": -100})"
   ]
  }
 ],
 "metadata": {
  "kernelspec": {
   "display_name": "langchain-tutorial",
   "language": "python",
   "name": "python3"
  },
  "language_info": {
   "codemirror_mode": {
    "name": "ipython",
    "version": 3
   },
   "file_extension": ".py",
   "mimetype": "text/x-python",
   "name": "python",
   "nbconvert_exporter": "python",
   "pygments_lexer": "ipython3",
   "version": "3.11.6"
  }
 },
 "nbformat": 4,
 "nbformat_minor": 5
}
