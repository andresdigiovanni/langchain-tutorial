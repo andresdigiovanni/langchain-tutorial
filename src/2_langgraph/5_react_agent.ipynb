{
 "cells": [
  {
   "cell_type": "code",
   "execution_count": null,
   "id": "a3d2ba56",
   "metadata": {},
   "outputs": [],
   "source": [
    "from IPython.display import Image, display\n",
    "from typing import TypedDict, Annotated, Sequence\n",
    "\n",
    "from langchain_core.messages import BaseMessage, SystemMessage\n",
    "from langchain_core.tools import tool\n",
    "from langchain_ollama.chat_models import ChatOllama\n",
    "from langgraph.graph import StateGraph, END\n",
    "from langgraph.graph.message import add_messages\n",
    "from langgraph.prebuilt import ToolNode"
   ]
  },
  {
   "cell_type": "markdown",
   "id": "0219df71",
   "metadata": {},
   "source": [
    "# 1. Agent state"
   ]
  },
  {
   "cell_type": "code",
   "execution_count": null,
   "id": "02e25714",
   "metadata": {},
   "outputs": [],
   "source": [
    "class AgentState(TypedDict):\n",
    "    messages: Annotated[Sequence[BaseMessage], add_messages]"
   ]
  },
  {
   "cell_type": "markdown",
   "id": "4470959b",
   "metadata": {},
   "source": [
    "# 2. Create tools"
   ]
  },
  {
   "cell_type": "code",
   "execution_count": null,
   "id": "7512ade3",
   "metadata": {},
   "outputs": [],
   "source": [
    "@tool\n",
    "def add(a: int, b: int):\n",
    "    \"\"\"This is an addition function that adds 2 numbers together\"\"\"\n",
    "    return a + b\n",
    "\n",
    "\n",
    "@tool\n",
    "def subtract(a: int, b: int):\n",
    "    \"\"\"Subtraction function\"\"\"\n",
    "    return a - b\n",
    "\n",
    "\n",
    "@tool\n",
    "def multiply(a: int, b: int):\n",
    "    \"\"\"Multiplication function\"\"\"\n",
    "    return a * b\n",
    "\n",
    "\n",
    "tools = [add, subtract, multiply]"
   ]
  },
  {
   "cell_type": "markdown",
   "id": "e9403ff9",
   "metadata": {},
   "source": [
    "# 3. Create llm"
   ]
  },
  {
   "cell_type": "code",
   "execution_count": null,
   "id": "6862a2e8",
   "metadata": {},
   "outputs": [],
   "source": [
    "llm = ChatOllama(model=\"llama3.1:8b\", reasoning=False).bind_tools(tools)"
   ]
  },
  {
   "cell_type": "markdown",
   "id": "eec34fc8",
   "metadata": {},
   "source": [
    "# 4. Create nodes"
   ]
  },
  {
   "cell_type": "code",
   "execution_count": null,
   "id": "f53f93c6",
   "metadata": {},
   "outputs": [],
   "source": [
    "def model_call(state: AgentState) -> AgentState:\n",
    "    system_prompt = SystemMessage(\n",
    "        content=\"You are my AI assistant, please answer my query to the best of your ability.\"\n",
    "    )\n",
    "    response = llm.invoke([system_prompt] + state[\"messages\"])\n",
    "    return {\"messages\": [response]}\n",
    "\n",
    "\n",
    "def should_continue(state: AgentState):\n",
    "    messages = state[\"messages\"]\n",
    "    last_message = messages[-1]\n",
    "\n",
    "    if not last_message.tool_calls:\n",
    "        return \"end\"\n",
    "    else:\n",
    "        return \"continue\""
   ]
  },
  {
   "cell_type": "markdown",
   "id": "882b6d21",
   "metadata": {},
   "source": [
    "# 5. Create graph"
   ]
  },
  {
   "cell_type": "code",
   "execution_count": null,
   "id": "0220119c",
   "metadata": {},
   "outputs": [],
   "source": [
    "graph = StateGraph(AgentState)\n",
    "\n",
    "graph.add_node(\"our_agent\", model_call)\n",
    "\n",
    "tool_node = ToolNode(tools=tools)\n",
    "graph.add_node(\"tools\", tool_node)\n",
    "\n",
    "graph.set_entry_point(\"our_agent\")\n",
    "graph.add_conditional_edges(\n",
    "    \"our_agent\",\n",
    "    should_continue,\n",
    "    {\n",
    "        \"continue\": \"tools\",\n",
    "        \"end\": END,\n",
    "    },\n",
    ")\n",
    "\n",
    "graph.add_edge(\"tools\", \"our_agent\")\n",
    "\n",
    "app = graph.compile()"
   ]
  },
  {
   "cell_type": "markdown",
   "id": "42b87c70",
   "metadata": {},
   "source": [
    "# 6. Visualize graph"
   ]
  },
  {
   "cell_type": "code",
   "execution_count": null,
   "id": "4f480b87",
   "metadata": {},
   "outputs": [],
   "source": [
    "display(Image(app.get_graph().draw_mermaid_png()))"
   ]
  },
  {
   "cell_type": "markdown",
   "id": "488b7bb5",
   "metadata": {},
   "source": [
    "# 7. Invoke"
   ]
  },
  {
   "cell_type": "code",
   "execution_count": null,
   "id": "3583f32b",
   "metadata": {},
   "outputs": [],
   "source": [
    "def print_stream(stream):\n",
    "    for s in stream:\n",
    "        message = s[\"messages\"][-1]\n",
    "        if isinstance(message, tuple):\n",
    "            print(message)\n",
    "        else:\n",
    "            message.pretty_print()\n",
    "\n",
    "\n",
    "inputs = {\n",
    "    \"messages\": [\n",
    "        (\n",
    "            \"user\",\n",
    "            \"Add 40 + 94 and then multiply the result by 6. Also tell me a joke please.\",\n",
    "        )\n",
    "    ]\n",
    "}\n",
    "print_stream(app.stream(inputs, stream_mode=\"values\"))"
   ]
  }
 ],
 "metadata": {
  "kernelspec": {
   "display_name": "langchain-tutorial",
   "language": "python",
   "name": "python3"
  },
  "language_info": {
   "codemirror_mode": {
    "name": "ipython",
    "version": 3
   },
   "file_extension": ".py",
   "mimetype": "text/x-python",
   "name": "python",
   "nbconvert_exporter": "python",
   "pygments_lexer": "ipython3",
   "version": "3.11.6"
  }
 },
 "nbformat": 4,
 "nbformat_minor": 5
}
