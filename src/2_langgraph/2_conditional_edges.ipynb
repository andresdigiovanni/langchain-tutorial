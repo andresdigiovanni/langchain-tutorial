{
 "cells": [
  {
   "cell_type": "code",
   "execution_count": null,
   "id": "e2b621fe",
   "metadata": {},
   "outputs": [],
   "source": [
    "from IPython.display import Image, display\n",
    "from typing import TypedDict\n",
    "\n",
    "from langgraph.graph import StateGraph, START, END"
   ]
  },
  {
   "cell_type": "markdown",
   "id": "9100320e",
   "metadata": {},
   "source": [
    "# 1. Agent state"
   ]
  },
  {
   "cell_type": "code",
   "execution_count": null,
   "id": "ac64d5c5",
   "metadata": {},
   "outputs": [],
   "source": [
    "class AgentState(TypedDict):\n",
    "    number1: int\n",
    "    number2: int\n",
    "    operation: str\n",
    "    final_number: int"
   ]
  },
  {
   "cell_type": "markdown",
   "id": "f389f67d",
   "metadata": {},
   "source": [
    "# 2. Create nodes"
   ]
  },
  {
   "cell_type": "code",
   "execution_count": null,
   "id": "c0c083df",
   "metadata": {},
   "outputs": [],
   "source": [
    "def adder(state: AgentState) -> AgentState:\n",
    "    \"\"\"This node adds the 2 numbers\"\"\"\n",
    "    state[\"final_number\"] = state[\"number1\"] + state[\"number2\"]\n",
    "    return state\n",
    "\n",
    "\n",
    "def subtractor(state: AgentState) -> AgentState:\n",
    "    \"\"\"This node subtracts the 2 numbers\"\"\"\n",
    "    state[\"final_number\"] = state[\"number1\"] - state[\"number2\"]\n",
    "    return state\n",
    "\n",
    "\n",
    "def decide_next_node(state: AgentState) -> AgentState:\n",
    "    \"\"\"This node will select the next phase\"\"\"\n",
    "    if state[\"operation\"] == \"+\":\n",
    "        return \"addition_operation\"\n",
    "\n",
    "    elif state[\"operation\"] == \"-\":\n",
    "        return \"subtraction_operation\""
   ]
  },
  {
   "cell_type": "markdown",
   "id": "3575a204",
   "metadata": {},
   "source": [
    "# 3. Create graph"
   ]
  },
  {
   "cell_type": "code",
   "execution_count": null,
   "id": "e5275184",
   "metadata": {},
   "outputs": [],
   "source": [
    "graph = StateGraph(AgentState)\n",
    "\n",
    "graph.add_node(\"add_node\", adder)\n",
    "graph.add_node(\"subtract_node\", subtractor)\n",
    "graph.add_node(\"router\", lambda state: state)\n",
    "\n",
    "graph.add_edge(START, \"router\")\n",
    "graph.add_conditional_edges(\n",
    "    \"router\",\n",
    "    decide_next_node,\n",
    "    {\n",
    "        \"addition_operation\": \"add_node\",\n",
    "        \"subtraction_operation\": \"subtract_node\",\n",
    "    },\n",
    ")\n",
    "\n",
    "graph.add_edge(\"add_node\", END)\n",
    "graph.add_edge(\"subtract_node\", END)\n",
    "\n",
    "app = graph.compile()"
   ]
  },
  {
   "cell_type": "markdown",
   "id": "c5d8e537",
   "metadata": {},
   "source": [
    "# 4. Visualize graph"
   ]
  },
  {
   "cell_type": "code",
   "execution_count": null,
   "id": "a0b776cc",
   "metadata": {},
   "outputs": [],
   "source": [
    "display(Image(app.get_graph().draw_mermaid_png()))"
   ]
  },
  {
   "cell_type": "markdown",
   "id": "7ecee786",
   "metadata": {},
   "source": [
    "# 5. Invoke"
   ]
  },
  {
   "cell_type": "code",
   "execution_count": null,
   "id": "c57a3b32",
   "metadata": {},
   "outputs": [],
   "source": [
    "initial_state = AgentState(number1=10, operation=\"-\", number2=5)\n",
    "\n",
    "result = app.invoke(initial_state)\n",
    "\n",
    "print(\"Final Result:\", result[\"final_number\"])"
   ]
  },
  {
   "cell_type": "code",
   "execution_count": null,
   "id": "4e4fa784",
   "metadata": {},
   "outputs": [],
   "source": [
    "initial_state = AgentState(number1=10, operation=\"+\", number2=5)\n",
    "\n",
    "result = app.invoke(initial_state)\n",
    "\n",
    "print(\"Final Result:\", result[\"final_number\"])"
   ]
  }
 ],
 "metadata": {
  "kernelspec": {
   "display_name": "langchain-tutorial",
   "language": "python",
   "name": "python3"
  },
  "language_info": {
   "codemirror_mode": {
    "name": "ipython",
    "version": 3
   },
   "file_extension": ".py",
   "mimetype": "text/x-python",
   "name": "python",
   "nbconvert_exporter": "python",
   "pygments_lexer": "ipython3",
   "version": "3.11.6"
  }
 },
 "nbformat": 4,
 "nbformat_minor": 5
}
