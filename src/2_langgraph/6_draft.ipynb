{
 "cells": [
  {
   "cell_type": "code",
   "execution_count": null,
   "id": "a3d2ba56",
   "metadata": {},
   "outputs": [],
   "source": [
    "from IPython.display import Image, display\n",
    "from typing import TypedDict, Annotated, Sequence\n",
    "\n",
    "from langchain_core.messages import (\n",
    "    BaseMessage,\n",
    "    HumanMessage,\n",
    "    SystemMessage,\n",
    "    ToolMessage,\n",
    ")\n",
    "from langchain_core.tools import tool\n",
    "from langchain_ollama.chat_models import ChatOllama\n",
    "from langgraph.graph import StateGraph, END\n",
    "from langgraph.graph.message import add_messages\n",
    "from langgraph.prebuilt import ToolNode"
   ]
  },
  {
   "cell_type": "code",
   "execution_count": null,
   "id": "54dae1d8",
   "metadata": {},
   "outputs": [],
   "source": [
    "document_content = \"\""
   ]
  },
  {
   "cell_type": "markdown",
   "id": "0219df71",
   "metadata": {},
   "source": [
    "# 1. Agent state"
   ]
  },
  {
   "cell_type": "code",
   "execution_count": null,
   "id": "02e25714",
   "metadata": {},
   "outputs": [],
   "source": [
    "class AgentState(TypedDict):\n",
    "    messages: Annotated[Sequence[BaseMessage], add_messages]"
   ]
  },
  {
   "cell_type": "markdown",
   "id": "4470959b",
   "metadata": {},
   "source": [
    "# 2. Create tools"
   ]
  },
  {
   "cell_type": "code",
   "execution_count": null,
   "id": "7512ade3",
   "metadata": {},
   "outputs": [],
   "source": [
    "@tool\n",
    "def update(content: str) -> str:\n",
    "    \"\"\"Updates the document with the provided content.\"\"\"\n",
    "    global document_content\n",
    "    document_content = content\n",
    "    return f\"Document has been updated successfully! The current content is:\\n{document_content}\"\n",
    "\n",
    "\n",
    "@tool\n",
    "def save(filename: str) -> str:\n",
    "    \"\"\"Save the current document to a text file and finish the process.\n",
    "\n",
    "    Args:\n",
    "        filename: Name for the text file.\n",
    "    \"\"\"\n",
    "\n",
    "    global document_content\n",
    "\n",
    "    if not filename.endswith(\".txt\"):\n",
    "        filename = f\"{filename}.txt\"\n",
    "\n",
    "    try:\n",
    "        with open(filename, \"w\") as file:\n",
    "            file.write(document_content)\n",
    "\n",
    "        print(f\"\\n💾 Document has been saved to: {filename}\")\n",
    "        return f\"Document has been saved successfully to '{filename}'.\"\n",
    "\n",
    "    except Exception as e:\n",
    "        return f\"Error saving document: {str(e)}\"\n",
    "\n",
    "\n",
    "tools = [update, save]"
   ]
  },
  {
   "cell_type": "markdown",
   "id": "e9403ff9",
   "metadata": {},
   "source": [
    "# 3. Create llm"
   ]
  },
  {
   "cell_type": "code",
   "execution_count": null,
   "id": "6862a2e8",
   "metadata": {},
   "outputs": [],
   "source": [
    "llm = ChatOllama(model=\"llama3.1:8b\", reasoning=False).bind_tools(tools)"
   ]
  },
  {
   "cell_type": "markdown",
   "id": "eec34fc8",
   "metadata": {},
   "source": [
    "# 4. Create nodes"
   ]
  },
  {
   "cell_type": "code",
   "execution_count": null,
   "id": "f53f93c6",
   "metadata": {},
   "outputs": [],
   "source": [
    "def our_agent(state: AgentState) -> AgentState:\n",
    "    system_prompt = SystemMessage(\n",
    "        content=f\"\"\"\n",
    "    You are Drafter, a helpful writing assistant. You are going to help the user update and modify documents.\n",
    "    \n",
    "    - If the user wants to update or modify content, use the 'update' tool with the complete updated content.\n",
    "    - If the user wants to save and finish, you need to use the 'save' tool.\n",
    "    - Make sure to always show the current document state after modifications.\n",
    "    \n",
    "    The current document content is:{document_content}\n",
    "    \"\"\"\n",
    "    )\n",
    "\n",
    "    if not state[\"messages\"]:\n",
    "        user_input = (\n",
    "            \"I'm ready to help you update a document. What would you like to create?\"\n",
    "        )\n",
    "        user_message = HumanMessage(content=user_input)\n",
    "\n",
    "    else:\n",
    "        user_input = input(\"\\nWhat would you like to do with the document? \")\n",
    "        print(f\"\\n👤 USER: {user_input}\")\n",
    "        user_message = HumanMessage(content=user_input)\n",
    "\n",
    "    all_messages = [system_prompt] + list(state[\"messages\"]) + [user_message]\n",
    "\n",
    "    response = llm.invoke(all_messages)\n",
    "\n",
    "    print(f\"\\n🤖 AI: {response.content}\")\n",
    "    if hasattr(response, \"tool_calls\") and response.tool_calls:\n",
    "        print(f\"🔧 USING TOOLS: {[tc['name'] for tc in response.tool_calls]}\")\n",
    "\n",
    "    return {\"messages\": list(state[\"messages\"]) + [user_message, response]}\n",
    "\n",
    "\n",
    "def should_continue(state: AgentState) -> str:\n",
    "    \"\"\"Determine if we should continue or end the conversation.\"\"\"\n",
    "\n",
    "    messages = state[\"messages\"]\n",
    "\n",
    "    if not messages:\n",
    "        return \"continue\"\n",
    "\n",
    "    # This looks for the most recent tool message....\n",
    "    for message in reversed(messages):\n",
    "        # ... and checks if this is a ToolMessage resulting from save\n",
    "        if (\n",
    "            isinstance(message, ToolMessage)\n",
    "            and \"saved\" in message.content.lower()\n",
    "            and \"document\" in message.content.lower()\n",
    "        ):\n",
    "            return \"end\"  # goes to the end edge which leads to the endpoint\n",
    "\n",
    "    return \"continue\""
   ]
  },
  {
   "cell_type": "markdown",
   "id": "882b6d21",
   "metadata": {},
   "source": [
    "# 5. Create graph"
   ]
  },
  {
   "cell_type": "code",
   "execution_count": null,
   "id": "0220119c",
   "metadata": {},
   "outputs": [],
   "source": [
    "graph = StateGraph(AgentState)\n",
    "\n",
    "graph.add_node(\"agent\", our_agent)\n",
    "graph.add_node(\"tools\", ToolNode(tools))\n",
    "\n",
    "graph.set_entry_point(\"agent\")\n",
    "graph.add_edge(\"agent\", \"tools\")\n",
    "graph.add_conditional_edges(\n",
    "    \"tools\",\n",
    "    should_continue,\n",
    "    {\n",
    "        \"continue\": \"agent\",\n",
    "        \"end\": END,\n",
    "    },\n",
    ")\n",
    "\n",
    "app = graph.compile()"
   ]
  },
  {
   "cell_type": "markdown",
   "id": "42b87c70",
   "metadata": {},
   "source": [
    "# 6. Visualize graph"
   ]
  },
  {
   "cell_type": "code",
   "execution_count": null,
   "id": "4f480b87",
   "metadata": {},
   "outputs": [],
   "source": [
    "display(Image(app.get_graph().draw_mermaid_png()))"
   ]
  },
  {
   "cell_type": "markdown",
   "id": "488b7bb5",
   "metadata": {},
   "source": [
    "# 7. Invoke"
   ]
  },
  {
   "cell_type": "code",
   "execution_count": null,
   "id": "f411052e",
   "metadata": {},
   "outputs": [],
   "source": [
    "def print_messages(messages):\n",
    "    \"\"\"Function I made to print the messages in a more readable format\"\"\"\n",
    "    if not messages:\n",
    "        return\n",
    "\n",
    "    for message in messages[-3:]:\n",
    "        if isinstance(message, ToolMessage):\n",
    "            print(f\"\\n🛠️ TOOL RESULT: {message.content}\")"
   ]
  },
  {
   "cell_type": "code",
   "execution_count": null,
   "id": "3583f32b",
   "metadata": {},
   "outputs": [],
   "source": [
    "state = {\"messages\": []}\n",
    "\n",
    "for step in app.stream(state, stream_mode=\"values\"):\n",
    "    if \"messages\" in step:\n",
    "        print_messages(step[\"messages\"])\n",
    "\n",
    "print(\"\\n ===== DRAFTER FINISHED =====\")"
   ]
  }
 ],
 "metadata": {
  "kernelspec": {
   "display_name": "langchain-tutorial",
   "language": "python",
   "name": "python3"
  },
  "language_info": {
   "codemirror_mode": {
    "name": "ipython",
    "version": 3
   },
   "file_extension": ".py",
   "mimetype": "text/x-python",
   "name": "python",
   "nbconvert_exporter": "python",
   "pygments_lexer": "ipython3",
   "version": "3.11.6"
  }
 },
 "nbformat": 4,
 "nbformat_minor": 5
}
