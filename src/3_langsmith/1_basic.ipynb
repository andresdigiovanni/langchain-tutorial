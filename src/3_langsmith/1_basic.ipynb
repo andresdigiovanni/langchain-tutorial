{
 "cells": [
  {
   "cell_type": "code",
   "execution_count": null,
   "id": "d48a6c50",
   "metadata": {},
   "outputs": [],
   "source": [
    "import random\n",
    "import time\n",
    "\n",
    "from dotenv import load_dotenv\n",
    "from langchain_ollama.llms import OllamaLLM\n",
    "from langsmith import traceable"
   ]
  },
  {
   "cell_type": "code",
   "execution_count": null,
   "id": "a30e2b6e",
   "metadata": {},
   "outputs": [],
   "source": [
    "llm = OllamaLLM(model=\"deepseek-r1:8b\")"
   ]
  },
  {
   "cell_type": "markdown",
   "id": "ef037657",
   "metadata": {},
   "source": [
    "# 1. Default Tracing"
   ]
  },
  {
   "cell_type": "code",
   "execution_count": null,
   "id": "eb0c967d",
   "metadata": {},
   "outputs": [],
   "source": [
    "load_dotenv()  # take environment variables"
   ]
  },
  {
   "cell_type": "code",
   "execution_count": null,
   "id": "06d58f7b",
   "metadata": {},
   "outputs": [],
   "source": [
    "# By default, LangChain will trace LLM calls, chains, etc.\n",
    "llm.invoke(\"hello\")"
   ]
  },
  {
   "cell_type": "markdown",
   "id": "c0c69cb2",
   "metadata": {},
   "source": [
    "# 2. Tracing Non-LangChain Code"
   ]
  },
  {
   "cell_type": "code",
   "execution_count": null,
   "id": "f47eebc4",
   "metadata": {},
   "outputs": [],
   "source": [
    "@traceable(name=\"Random Number Generation\")\n",
    "def generate_random_number():\n",
    "    return random.randint(0, 100)\n",
    "\n",
    "\n",
    "@traceable\n",
    "def generate_string_delay(input_str: str):\n",
    "    number = random.randint(1, 5)\n",
    "    time.sleep(number)\n",
    "    return f\"{input_str} ({number})\"\n",
    "\n",
    "\n",
    "@traceable\n",
    "def random_error():\n",
    "    number = random.randint(0, 1)\n",
    "    if number == 0:\n",
    "        raise ValueError(\"Random error\")\n",
    "    else:\n",
    "        return \"No error\""
   ]
  },
  {
   "cell_type": "code",
   "execution_count": null,
   "id": "f9673036",
   "metadata": {},
   "outputs": [],
   "source": [
    "for _ in range(3):\n",
    "    generate_random_number()\n",
    "    generate_string_delay(\"Hello\")\n",
    "\n",
    "    try:\n",
    "        random_error()\n",
    "    except ValueError:\n",
    "        pass"
   ]
  }
 ],
 "metadata": {
  "kernelspec": {
   "display_name": "langchain-tutorial",
   "language": "python",
   "name": "python3"
  },
  "language_info": {
   "codemirror_mode": {
    "name": "ipython",
    "version": 3
   },
   "file_extension": ".py",
   "mimetype": "text/x-python",
   "name": "python",
   "nbconvert_exporter": "python",
   "pygments_lexer": "ipython3",
   "version": "3.11.6"
  }
 },
 "nbformat": 4,
 "nbformat_minor": 5
}
