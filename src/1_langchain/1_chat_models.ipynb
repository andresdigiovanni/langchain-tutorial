{
 "cells": [
  {
   "cell_type": "code",
   "execution_count": null,
   "id": "3259520f",
   "metadata": {},
   "outputs": [],
   "source": [
    "from langchain_core.messages import AIMessage, HumanMessage, SystemMessage\n",
    "from langchain_huggingface import HuggingFacePipeline\n",
    "from transformers import pipeline"
   ]
  },
  {
   "cell_type": "markdown",
   "id": "cd53c00c",
   "metadata": {},
   "source": [
    "# 1. Basics"
   ]
  },
  {
   "cell_type": "code",
   "execution_count": null,
   "id": "c8e5d100",
   "metadata": {},
   "outputs": [],
   "source": [
    "# Hugging Face model integrated with LangChain\n",
    "task = \"text2text-generation\"\n",
    "model_name = \"google/flan-t5-large\"\n",
    "\n",
    "hf_pipeline = pipeline(task, model=model_name, max_new_tokens=50)\n",
    "llm = HuggingFacePipeline(pipeline=hf_pipeline)"
   ]
  },
  {
   "cell_type": "code",
   "execution_count": null,
   "id": "7774578b",
   "metadata": {},
   "outputs": [],
   "source": [
    "# Invoke the model with a message\n",
    "question = \"What is 81 divided by 9?\"\n",
    "response = llm.invoke(question)\n",
    "print(response)"
   ]
  },
  {
   "cell_type": "markdown",
   "id": "2ac3f7bf",
   "metadata": {},
   "source": [
    "# 2. Basic conversation"
   ]
  },
  {
   "cell_type": "code",
   "execution_count": null,
   "id": "09fc4464",
   "metadata": {},
   "outputs": [],
   "source": [
    "# SystemMessage:\n",
    "#   Message for priming AI behavior, usually passed in as the first of a sequenc of input messages.\n",
    "# HumanMessagse:\n",
    "#   Message from a human to the AI model.\n",
    "# AIMessage:\n",
    "#   Message from an AI.\n",
    "\n",
    "# Example 1:\n",
    "messages = [\n",
    "    SystemMessage(content=\"Solve the following math problems\"),\n",
    "    HumanMessage(content=\"What is 81 divided by 9?\"),\n",
    "]\n",
    "result = llm.invoke(messages)\n",
    "print(\"\\n----- Example 1 -----\\n\")\n",
    "print(f\"Answer from AI: {result}\")\n",
    "\n",
    "# Example 2:\n",
    "messages = [\n",
    "    SystemMessage(content=\"Solve the following math problems\"),\n",
    "    HumanMessage(content=\"What is 81 divided by 9?\"),\n",
    "    AIMessage(content=\"81 divided by 9 is 9.\"),\n",
    "    HumanMessage(content=\"What is 10 times 5?\"),\n",
    "]\n",
    "result = llm.invoke(messages)\n",
    "print(\"\\n----- Example 2 -----\\n\")\n",
    "print(f\"Answer from AI: {result}\")"
   ]
  },
  {
   "cell_type": "markdown",
   "id": "393d50cf",
   "metadata": {},
   "source": [
    "# 3. Conversation with user"
   ]
  },
  {
   "cell_type": "code",
   "execution_count": null,
   "id": "7b4f2fbb",
   "metadata": {},
   "outputs": [],
   "source": [
    "chat_history = []  # Use a list to store messages\n",
    "\n",
    "# Set an initial system message (optional)\n",
    "system_message = SystemMessage(content=\"You are a helpful AI assistant.\")\n",
    "chat_history.append(system_message)  # Add system message to chat history\n",
    "\n",
    "# Chat loop\n",
    "while True:\n",
    "    query = input(\"You: \")\n",
    "    if query.lower() == \"exit\":\n",
    "        break\n",
    "    chat_history.append(HumanMessage(content=query))  # Add user message\n",
    "\n",
    "    # Get AI response using history\n",
    "    response = llm.invoke(chat_history)\n",
    "    chat_history.append(AIMessage(content=response))  # Add AI message\n",
    "\n",
    "    print(f\"AI: {response}\")\n",
    "\n",
    "\n",
    "print(\"---- Message History ----\")\n",
    "print(chat_history)"
   ]
  }
 ],
 "metadata": {
  "kernelspec": {
   "display_name": "langchain-tutorial",
   "language": "python",
   "name": "python3"
  },
  "language_info": {
   "codemirror_mode": {
    "name": "ipython",
    "version": 3
   },
   "file_extension": ".py",
   "mimetype": "text/x-python",
   "name": "python",
   "nbconvert_exporter": "python",
   "pygments_lexer": "ipython3",
   "version": "3.11.7"
  }
 },
 "nbformat": 4,
 "nbformat_minor": 5
}
