{
 "cells": [
  {
   "cell_type": "code",
   "execution_count": null,
   "id": "3259520f",
   "metadata": {},
   "outputs": [],
   "source": [
    "from langchain_core.messages import AIMessage, HumanMessage, SystemMessage\n",
    "from langchain_ollama.llms import OllamaLLM"
   ]
  },
  {
   "cell_type": "code",
   "execution_count": null,
   "id": "6a9d70b3",
   "metadata": {},
   "outputs": [],
   "source": [
    "llm = OllamaLLM(model=\"deepseek-r1:1.5b\", reasoning=False)"
   ]
  },
  {
   "cell_type": "markdown",
   "id": "cd53c00c",
   "metadata": {},
   "source": [
    "# 1. Basic input"
   ]
  },
  {
   "cell_type": "code",
   "execution_count": null,
   "id": "7774578b",
   "metadata": {},
   "outputs": [],
   "source": [
    "# Invoke the model with a message\n",
    "question = \"What is 81 divided by 9?\"\n",
    "result = llm.invoke(question)\n",
    "print(f\"Answer from AI: {result}\")"
   ]
  },
  {
   "cell_type": "markdown",
   "id": "2ac3f7bf",
   "metadata": {},
   "source": [
    "# 2. Messages input"
   ]
  },
  {
   "cell_type": "code",
   "execution_count": null,
   "id": "09fc4464",
   "metadata": {},
   "outputs": [],
   "source": [
    "# SystemMessage:\n",
    "#   Message for priming AI behavior, usually passed in as the first of a sequenc of input messages.\n",
    "# HumanMessagse:\n",
    "#   Message from a human to the AI model.\n",
    "# AIMessage:\n",
    "#   Message from an AI.\n",
    "\n",
    "messages = [\n",
    "    SystemMessage(content=\"Solve the following math problems\"),\n",
    "    HumanMessage(content=\"What is 81 divided by 9?\"),\n",
    "    AIMessage(content=\"81 divided by 9 is 9.\"),\n",
    "    HumanMessage(content=\"What is 10 times 5?\"),\n",
    "]\n",
    "result = llm.invoke(messages)\n",
    "print(f\"Answer from AI: {result}\")"
   ]
  }
 ],
 "metadata": {
  "kernelspec": {
   "display_name": "langchain-tutorial",
   "language": "python",
   "name": "python3"
  },
  "language_info": {
   "codemirror_mode": {
    "name": "ipython",
    "version": 3
   },
   "file_extension": ".py",
   "mimetype": "text/x-python",
   "name": "python",
   "nbconvert_exporter": "python",
   "pygments_lexer": "ipython3",
   "version": "3.11.6"
  }
 },
 "nbformat": 4,
 "nbformat_minor": 5
}
