{
 "cells": [
  {
   "cell_type": "code",
   "execution_count": null,
   "id": "811bf6e2",
   "metadata": {},
   "outputs": [],
   "source": [
    "import json\n",
    "\n",
    "from langchain.agents import AgentExecutor, create_tool_calling_agent\n",
    "from langchain.tools import tool\n",
    "from langchain_core.messages import BaseMessage, HumanMessage, AIMessage, ToolMessage\n",
    "from langchain_core.prompts import ChatPromptTemplate, MessagesPlaceholder\n",
    "from langchain_core.runnables.base import RunnableSerializable\n",
    "from langchain_ollama.chat_models import ChatOllama"
   ]
  },
  {
   "cell_type": "markdown",
   "id": "ee30c8f5",
   "metadata": {},
   "source": [
    "# 1. Setup"
   ]
  },
  {
   "cell_type": "code",
   "execution_count": null,
   "id": "80202851",
   "metadata": {},
   "outputs": [],
   "source": [
    "llm = ChatOllama(model=\"llama3.1:8b\", reasoning=False)"
   ]
  },
  {
   "cell_type": "code",
   "execution_count": null,
   "id": "c62309d3",
   "metadata": {},
   "outputs": [],
   "source": [
    "@tool\n",
    "def add(x: float, y: float) -> float:\n",
    "    \"\"\"Add 'x' and 'y'.\"\"\"\n",
    "    return x + y\n",
    "\n",
    "\n",
    "@tool\n",
    "def multiply(x: float, y: float) -> float:\n",
    "    \"\"\"Multiply 'x' and 'y'.\"\"\"\n",
    "    return x * y\n",
    "\n",
    "\n",
    "@tool\n",
    "def exponentiate(x: float, y: float) -> float:\n",
    "    \"\"\"Raise 'x' to the power of 'y'.\"\"\"\n",
    "    return x**y\n",
    "\n",
    "\n",
    "@tool\n",
    "def subtract(x: float, y: float) -> float:\n",
    "    \"\"\"Subtract 'x' from 'y'.\"\"\"\n",
    "    return y - x\n",
    "\n",
    "\n",
    "tools = [add, subtract, multiply, exponentiate]\n",
    "name2tool = {tool.name: tool.func for tool in tools}"
   ]
  },
  {
   "cell_type": "code",
   "execution_count": null,
   "id": "aa6ed563",
   "metadata": {},
   "outputs": [],
   "source": [
    "prompt = ChatPromptTemplate.from_messages(\n",
    "    [\n",
    "        (\n",
    "            \"system\",\n",
    "            (\n",
    "                \"You're a helpful assistant. When answering a user's question \"\n",
    "                \"you should first use one of the tools provided. After using a \"\n",
    "                \"tool the tool output will be provided in the \"\n",
    "                \"'scratchpad' below. If you have an answer in the \"\n",
    "                \"scratchpad you should not use any more tools and \"\n",
    "                \"instead answer directly to the user.\"\n",
    "            ),\n",
    "        ),\n",
    "        MessagesPlaceholder(variable_name=\"chat_history\"),\n",
    "        (\"human\", \"{input}\"),\n",
    "        MessagesPlaceholder(variable_name=\"agent_scratchpad\"),\n",
    "    ]\n",
    ")"
   ]
  },
  {
   "cell_type": "markdown",
   "id": "58e78f32",
   "metadata": {},
   "source": [
    "# 2. Custom Agent Executor"
   ]
  },
  {
   "cell_type": "code",
   "execution_count": null,
   "id": "4f896560",
   "metadata": {},
   "outputs": [],
   "source": [
    "class CustomAgentExecutor:\n",
    "    chat_history: list[BaseMessage]\n",
    "\n",
    "    def __init__(self, max_iterations: int = 3):\n",
    "        self.chat_history = []\n",
    "        self.max_iterations = max_iterations\n",
    "        self.agent: RunnableSerializable = (\n",
    "            {\n",
    "                \"input\": lambda x: x[\"input\"],\n",
    "                \"chat_history\": lambda x: x[\"chat_history\"],\n",
    "                \"agent_scratchpad\": lambda x: x.get(\"agent_scratchpad\", []),\n",
    "            }\n",
    "            | prompt\n",
    "            | llm.bind_tools(tools)\n",
    "        )\n",
    "\n",
    "    def invoke(self, input: str) -> dict:\n",
    "        count = 0\n",
    "        agent_scratchpad = []\n",
    "\n",
    "        while count < self.max_iterations:\n",
    "            print(f\"Iteration {count + 1} of {self.max_iterations}\")\n",
    "            agent_input = {\n",
    "                \"input\": input,\n",
    "                \"chat_history\": self.chat_history,\n",
    "                \"agent_scratchpad\": agent_scratchpad,\n",
    "            }\n",
    "\n",
    "            step = self.agent.invoke(agent_input)\n",
    "            print(step)\n",
    "\n",
    "            # Stop if no tool_calls – indicates final answer\n",
    "            if not hasattr(step, \"tool_calls\") or not step.tool_calls:\n",
    "                final_output = step.content if hasattr(step, \"content\") else str(step)\n",
    "                break\n",
    "\n",
    "            # Parse tool call\n",
    "            tool_call = step.tool_calls[0]\n",
    "            tool_name = tool_call[\"name\"]\n",
    "            tool_args = tool_call[\"args\"]\n",
    "            tool_call_id = tool_call[\"id\"]\n",
    "\n",
    "            # Execute tool\n",
    "            tool_out = name2tool[tool_name](**tool_args)\n",
    "\n",
    "            # Append both tool call and response\n",
    "            agent_scratchpad.append(step)\n",
    "            agent_scratchpad.append(\n",
    "                ToolMessage(content=f\"{tool_out}\", tool_call_id=tool_call_id)\n",
    "            )\n",
    "\n",
    "            print(f\"{count}: {tool_name}({tool_args})\")\n",
    "            count += 1\n",
    "\n",
    "        # Add final exchange to history\n",
    "        self.chat_history.extend(\n",
    "            [HumanMessage(content=input), AIMessage(content=final_output)]\n",
    "        )\n",
    "\n",
    "        return json.dumps({\"answer\": final_output})"
   ]
  },
  {
   "cell_type": "code",
   "execution_count": null,
   "id": "8d15c859",
   "metadata": {},
   "outputs": [],
   "source": [
    "agent_executor = CustomAgentExecutor()"
   ]
  },
  {
   "cell_type": "code",
   "execution_count": null,
   "id": "8bd03c2c",
   "metadata": {},
   "outputs": [],
   "source": [
    "agent_executor.invoke(input=\"What is 10 + 10\")"
   ]
  },
  {
   "cell_type": "markdown",
   "id": "6eed5576",
   "metadata": {},
   "source": [
    "# 3. Agent Executor"
   ]
  },
  {
   "cell_type": "code",
   "execution_count": null,
   "id": "5ccf4070",
   "metadata": {},
   "outputs": [],
   "source": [
    "agent = create_tool_calling_agent(llm=llm, tools=tools, prompt=prompt)\n",
    "\n",
    "agent_executor = AgentExecutor(\n",
    "    agent=agent,\n",
    "    tools=tools,\n",
    "    max_iterations=3,\n",
    "    verbose=True,\n",
    ")"
   ]
  },
  {
   "cell_type": "code",
   "execution_count": null,
   "id": "aeb81f0d",
   "metadata": {},
   "outputs": [],
   "source": [
    "agent_executor.invoke({\"input\": \"What is 10 + 10\", \"chat_history\": []})"
   ]
  }
 ],
 "metadata": {
  "kernelspec": {
   "display_name": "langchain-tutorial",
   "language": "python",
   "name": "python3"
  },
  "language_info": {
   "codemirror_mode": {
    "name": "ipython",
    "version": 3
   },
   "file_extension": ".py",
   "mimetype": "text/x-python",
   "name": "python",
   "nbconvert_exporter": "python",
   "pygments_lexer": "ipython3",
   "version": "3.11.6"
  }
 },
 "nbformat": 4,
 "nbformat_minor": 5
}
