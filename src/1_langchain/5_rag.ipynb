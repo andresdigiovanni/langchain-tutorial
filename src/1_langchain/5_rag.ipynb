{
 "cells": [
  {
   "cell_type": "code",
   "execution_count": null,
   "id": "09a60434",
   "metadata": {},
   "outputs": [],
   "source": [
    "import os\n",
    "\n",
    "from langchain.text_splitter import CharacterTextSplitter\n",
    "from langchain_chroma import Chroma\n",
    "from langchain_community.document_loaders import TextLoader\n",
    "from langchain_core.messages import HumanMessage, SystemMessage\n",
    "from langchain_huggingface.embeddings import HuggingFaceEmbeddings\n",
    "from langchain_ollama.llms import OllamaLLM"
   ]
  },
  {
   "cell_type": "markdown",
   "id": "e1a50c10",
   "metadata": {},
   "source": [
    "# 1. Create DB"
   ]
  },
  {
   "cell_type": "code",
   "execution_count": null,
   "id": "66e810c7",
   "metadata": {},
   "outputs": [],
   "source": [
    "# Define the directory containing the text file and the persistent directory\n",
    "file_path = os.path.join(\"..\", \"..\", \"data\", \"books\", \"odyssey.txt\")\n",
    "persistent_dir = os.path.join(\"..\", \"..\", \"db\", \"chroma_db\")"
   ]
  },
  {
   "cell_type": "code",
   "execution_count": null,
   "id": "0bc17ecf",
   "metadata": {},
   "outputs": [],
   "source": [
    "# Create embeddings\n",
    "model_embeddings = \"sentence-transformers/all-mpnet-base-v2\"\n",
    "embeddings = HuggingFaceEmbeddings(model_name=model_embeddings)"
   ]
  },
  {
   "cell_type": "code",
   "execution_count": null,
   "id": "e2d61e1b",
   "metadata": {},
   "outputs": [],
   "source": [
    "# Check if the Chroma vector store already exists\n",
    "if not os.path.exists(persistent_dir):\n",
    "    print(\"Persistent directory does not exist. Initializing vector store...\")\n",
    "\n",
    "    # Ensure the text file exists\n",
    "    if not os.path.exists(file_path):\n",
    "        raise FileNotFoundError(\n",
    "            f\"The file {file_path} does not exist. Please check the path.\"\n",
    "        )\n",
    "\n",
    "    # Read the text content from the file\n",
    "    loader = TextLoader(file_path, encoding=\"utf8\")\n",
    "    documents = loader.load()\n",
    "\n",
    "    # Different ways to split text into chunks\n",
    "    # ----------------------------------------\n",
    "\n",
    "    # 1. Character-based Splitting\n",
    "    # Splits text into chunks based on a specified number of characters.\n",
    "    # Useful for consistent chunk sizes regardless of content structure.\n",
    "    text_splitter = CharacterTextSplitter(\n",
    "        separator=\"\\n\", chunk_size=1000, chunk_overlap=100\n",
    "    )\n",
    "    docs = text_splitter.split_documents(documents)\n",
    "\n",
    "    # 2. Sentence-based Splitting\n",
    "    # Splits text into chunks based on sentences, ensuring chunks end at sentence boundaries.\n",
    "    # Ideal for maintaining semantic coherence within chunks.\n",
    "    # text_splitter = SentenceTransformersTokenTextSplitter(chunk_size=1000)\n",
    "    # docs = text_splitter.split_documents(documents)\n",
    "\n",
    "    # 3. Token-based Splitting\n",
    "    # Splits text into chunks based on tokens (words or subwords), using tokenizers like GPT-2.\n",
    "    # Useful for transformer models with strict token limits.\n",
    "    # text_splitter = TokenTextSplitter(chunk_overlap=0, chunk_size=512)\n",
    "    # docs = text_splitter.split_documents(documents)\n",
    "\n",
    "    # 4. Recursive Character-based Splitting\n",
    "    # Attempts to split text at natural boundaries (sentences, paragraphs) within character limit.\n",
    "    # Balances between maintaining coherence and adhering to character limits.\n",
    "    # text_splitter = RecursiveCharacterTextSplitter(chunk_size=1000, chunk_overlap=100)\n",
    "    # docs = text_splitter.split_documents(documents)\n",
    "\n",
    "    # Display information about the split documents\n",
    "    print(\"\\n--- Document Chunks Information ---\")\n",
    "    print(f\"Number of document chunks: {len(docs)}\")\n",
    "\n",
    "    # Create the vector store and persist it automatically\n",
    "    print(\"\\n--- Creating vector store ---\")\n",
    "    db = Chroma.from_documents(docs, embeddings, persist_directory=persistent_dir)\n",
    "    print(\"\\n--- Finished creating vector store ---\")\n",
    "\n",
    "else:\n",
    "    print(\"Vector store already exists. No need to initialize.\")"
   ]
  },
  {
   "cell_type": "markdown",
   "id": "8fed4448",
   "metadata": {},
   "source": [
    "# 2. Retrieve documents"
   ]
  },
  {
   "cell_type": "code",
   "execution_count": null,
   "id": "6683835a",
   "metadata": {},
   "outputs": [],
   "source": [
    "# Load the existing vector store with the embedding function\n",
    "db = Chroma(persist_directory=persistent_dir, embedding_function=embeddings)\n",
    "\n",
    "# Define the user's question\n",
    "query = \"Who is Odysseus' wife?\"\n",
    "\n",
    "# Different retrieval methods\n",
    "# ---------------------------\n",
    "\n",
    "# 1. Similarity Search\n",
    "# This method retrieves documents based on vector similarity.\n",
    "# It finds the most similar documents to the query vector based on cosine similarity.\n",
    "# Use this when you want to retrieve the top k most similar documents.\n",
    "# search_type = \"similarity\"\n",
    "# search_kwargs = {\"k\": 3}\n",
    "\n",
    "# 2. Max Marginal Relevance (MMR)\n",
    "# This method balances between selecting documents that are relevant to the query and diverse among themselves.\n",
    "# 'fetch_k' specifies the number of documents to initially fetch based on similarity.\n",
    "# 'lambda_mult' controls the diversity of the results: 1 for minimum diversity, 0 for maximum.\n",
    "# Use this when you want to avoid redundancy and retrieve diverse yet relevant documents.\n",
    "# Note: Relevance measures how closely documents match the query.\n",
    "# Note: Diversity ensures that the retrieved documents are not too similar to each other,\n",
    "#       providing a broader range of information.\n",
    "# search_type = \"mmr\"\n",
    "# search_kwargs = {\"k\": 3, \"fetch_k\": 20, \"lambda_mult\": 0.5}\n",
    "\n",
    "# 3. Similarity Score Threshold\n",
    "# This method retrieves documents that exceed a certain similarity score threshold.\n",
    "# 'score_threshold' sets the minimum similarity score a document must have to be considered relevant.\n",
    "# Use this when you want to ensure that only highly relevant documents are retrieved, filtering out less relevant ones.\n",
    "search_type = \"similarity_score_threshold\"\n",
    "search_kwargs = {\"k\": 3, \"score_threshold\": 0.3}\n",
    "\n",
    "# Retrieve relevant documents based on the query\n",
    "retriever = db.as_retriever(\n",
    "    search_type=search_type,\n",
    "    search_kwargs=search_kwargs,\n",
    ")\n",
    "relevant_docs = retriever.invoke(query)\n",
    "\n",
    "# Display the relevant results with metadata\n",
    "print(\"\\n--- Relevant Documents ---\")\n",
    "for i, doc in enumerate(relevant_docs, 1):\n",
    "    print(f\"Document {i}:\\n{doc.page_content}\\n\")\n",
    "    if doc.metadata:\n",
    "        print(f\"Source: {doc.metadata.get('source', 'Unknown')}\\n\")"
   ]
  },
  {
   "cell_type": "markdown",
   "id": "e5c34c56",
   "metadata": {},
   "source": [
    "# 3. One off question"
   ]
  },
  {
   "cell_type": "code",
   "execution_count": null,
   "id": "4e758213",
   "metadata": {},
   "outputs": [],
   "source": [
    "llm = OllamaLLM(model=\"deepseek-r1:1.5b\")"
   ]
  },
  {
   "cell_type": "code",
   "execution_count": null,
   "id": "e6125a5b",
   "metadata": {},
   "outputs": [],
   "source": [
    "# Load the existing vector store with the embedding function\n",
    "db = Chroma(persist_directory=persistent_dir, embedding_function=embeddings)\n",
    "\n",
    "# Define the user's question\n",
    "query = \"Who is Odysseus' wife?\"\n",
    "\n",
    "# Retrieve relevant documents based on the query\n",
    "retriever = db.as_retriever(\n",
    "    search_type=\"similarity_score_threshold\",\n",
    "    search_kwargs={\"k\": 3, \"score_threshold\": 0.3},\n",
    ")\n",
    "relevant_docs = retriever.invoke(query)\n",
    "\n",
    "# Combine the query and the relevant document contents\n",
    "combined_input = (\n",
    "    \"Here are some documents that might help answer the question: \"\n",
    "    + query\n",
    "    + \"\\n\\nRelevant Documents:\\n\"\n",
    "    + \"\\n\\n\".join([doc.page_content for doc in relevant_docs])\n",
    "    + \"\\n\\nPlease provide an answer based only on the provided documents. If the answer is not found in the documents, respond with 'I'm not sure'.\"\n",
    ")\n",
    "\n",
    "# Define the messages for the model\n",
    "messages = [\n",
    "    SystemMessage(content=\"You are a helpful assistant.\"),\n",
    "    HumanMessage(content=combined_input),\n",
    "]\n",
    "\n",
    "# Invoke the model with the combined input\n",
    "result = llm.invoke(messages)\n",
    "\n",
    "# Display the answer\n",
    "print(\"\\n--- Generated Response ---\")\n",
    "print(\"Answer:\")\n",
    "print(result)"
   ]
  }
 ],
 "metadata": {
  "kernelspec": {
   "display_name": "langchain-tutorial",
   "language": "python",
   "name": "python3"
  },
  "language_info": {
   "codemirror_mode": {
    "name": "ipython",
    "version": 3
   },
   "file_extension": ".py",
   "mimetype": "text/x-python",
   "name": "python",
   "nbconvert_exporter": "python",
   "pygments_lexer": "ipython3",
   "version": "3.11.6"
  }
 },
 "nbformat": 4,
 "nbformat_minor": 5
}
